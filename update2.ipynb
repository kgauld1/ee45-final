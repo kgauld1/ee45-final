{
 "cells": [
  {
   "cell_type": "markdown",
   "id": "painful-religious",
   "metadata": {},
   "source": [
    "# EE45 Update 2 - Krishna Pochana + Kevin Gauld\n",
    "\n",
    "## Imports"
   ]
  },
  {
   "cell_type": "code",
   "execution_count": 73,
   "id": "external-record",
   "metadata": {},
   "outputs": [],
   "source": [
    "import numpy as np\n",
    "import pickle\n",
    "import matplotlib.pyplot as plt\n",
    "from sklearn.model_selection import train_test_split\n",
    "from sklearn.linear_model import SGDClassifier"
   ]
  },
  {
   "cell_type": "markdown",
   "id": "labeled-charles",
   "metadata": {},
   "source": [
    "## Load in the dataset"
   ]
  },
  {
   "cell_type": "code",
   "execution_count": 74,
   "id": "forward-arkansas",
   "metadata": {},
   "outputs": [],
   "source": [
    "data = pickle.load(open('out2.pkl', 'rb'))\n",
    "X = np.array(data[0])\n",
    "y = np.array(data[1])"
   ]
  },
  {
   "cell_type": "markdown",
   "id": "green-warrant",
   "metadata": {},
   "source": [
    "## Show the data"
   ]
  },
  {
   "cell_type": "code",
   "execution_count": 79,
   "id": "latest-columbus",
   "metadata": {},
   "outputs": [
    {
     "data": {
      "image/png": "[encoded data removed]",
      "text/plain": [
       "<Figure size 720x720 with 150 Axes>"
      ]
     },
     "metadata": {},
     "output_type": "display_data"
    }
   ],
   "source": [
    "plt.figure(figsize=(10,10))\n",
    "for i in range(len(X)):\n",
    "    plt.subplot(10,len(X)//10,i+1)\n",
    "    plt.xticks([])\n",
    "    plt.yticks([])\n",
    "    plt.grid(False)\n",
    "    plt.imshow(X[i], cmap=plt.cm.binary)\n",
    "    plt.xlabel(y[i])\n",
    "    \n",
    "plt.show()"
   ]
  },
  {
   "cell_type": "markdown",
   "id": "charming-cincinnati",
   "metadata": {},
   "source": [
    "## Data preparation"
   ]
  },
  {
   "cell_type": "code",
   "execution_count": 83,
   "id": "sharing-grocery",
   "metadata": {},
   "outputs": [],
   "source": [
    "X = X.reshape(len(X), 100)\n",
    "X_train, X_test, y_train, y_test = train_test_split(X, y, test_size=0.2)"
   ]
  },
  {
   "cell_type": "markdown",
   "id": "respective-uncertainty",
   "metadata": {},
   "source": [
    "## Fit SGD model"
   ]
  },
  {
   "cell_type": "code",
   "execution_count": 84,
   "id": "italic-entrance",
   "metadata": {},
   "outputs": [
    {
     "data": {
      "text/plain": [
       "SGDClassifier(random_state=42)"
      ]
     },
     "execution_count": 84,
     "metadata": {},
     "output_type": "execute_result"
    }
   ],
   "source": [
    "sgd_clf = SGDClassifier(random_state=42, max_iter=1000, tol=1e-3)\n",
    "sgd_clf.fit(X_train, y_train)"
   ]
  },
  {
   "cell_type": "markdown",
   "id": "dense-cable",
   "metadata": {},
   "source": [
    "## Classify + Show Accuracy"
   ]
  },
  {
   "cell_type": "code",
   "execution_count": 85,
   "id": "handled-speaker",
   "metadata": {},
   "outputs": [
    {
     "name": "stdout",
     "output_type": "stream",
     "text": [
      "[ True  True  True  True  True  True  True  True  True  True  True  True\n",
      "  True  True  True  True  True  True  True  True  True False  True  True\n",
      "  True]\n",
      "\n",
      "Percentage correct:  96.66666666666667\n"
     ]
    }
   ],
   "source": [
    "y_pred = sgd_clf.predict(X_test)\n",
    "print(np.array(y_pred == y_test)[:25])\n",
    "print('')\n",
    "print('Percentage correct: ', 100*np.sum(y_pred == y_test)/len(y_test))"
   ]
  },
  {
   "cell_type": "markdown",
   "id": "athletic-bonus",
   "metadata": {},
   "source": [
    "## Average over 100 Trials"
   ]
  },
  {
   "cell_type": "code",
   "execution_count": 91,
   "id": "reduced-lingerie",
   "metadata": {},
   "outputs": [
    {
     "name": "stdout",
     "output_type": "stream",
     "text": [
      "100 trials; Average percent correct:  97.86666666666665\n"
     ]
    }
   ],
   "source": [
    "n_trials = 100\n",
    "avg_acc = 0\n",
    "\n",
    "for k in range(n_trials):\n",
    "    X_train, X_test, y_train, y_test = train_test_split(X, y, test_size=0.2)\n",
    "    sgd_clf = SGDClassifier(random_state=42, max_iter=1000, tol=1e-3)\n",
    "    sgd_clf.fit(X_train, y_train)\n",
    "    y_pred = sgd_clf.predict(X_test)\n",
    "    avg_acc += 100*np.sum(y_pred == y_test)/len(y_test)\n",
    "    \n",
    "print(n_trials, \"trials; Average percent correct: \", avg_acc/n_trials)"
   ]
  }
 ],
 "metadata": {
  "kernelspec": {
   "display_name": "Python 3",
   "language": "python",
   "name": "python3"
  },
  "language_info": {
   "codemirror_mode": {
    "name": "ipython",
    "version": 3
   },
   "file_extension": ".py",
   "mimetype": "text/x-python",
   "name": "python",
   "nbconvert_exporter": "python",
   "pygments_lexer": "ipython3",
   "version": "3.8.8"
  }
 },
 "nbformat": 4,
 "nbformat_minor": 5
}
